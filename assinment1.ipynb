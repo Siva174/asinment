{
  "nbformat": 4,
  "nbformat_minor": 0,
  "metadata": {
    "colab": {
      "name": "Untitled9.ipynb",
      "provenance": []
    },
    "kernelspec": {
      "name": "python3",
      "display_name": "Python 3"
    },
    "language_info": {
      "name": "python"
    }
  },
  "cells": [
    {
      "cell_type": "markdown",
      "source": [
        "1.register the user and store names and password in a list\n"
      ],
      "metadata": {
        "id": "643V0AXlnLXs"
      }
    },
    {
      "cell_type": "code",
      "execution_count": 6,
      "metadata": {
        "colab": {
          "base_uri": "https://localhost:8080/"
        },
        "id": "UsRESGssjuQT",
        "outputId": "fa62c09e-b60d-4519-e135-a8789f907f37"
      },
      "outputs": [
        {
          "name": "stdout",
          "output_type": "stream",
          "text": [
            "siva\n",
            "1739\n",
            "ram\n",
            "1242\n",
            "ravi\n",
            "1938\n",
            "radha\n",
            "32934\n"
          ]
        }
      ],
      "source": [
        "info=[]\n",
        "for x in range (4):\n",
        "  user=input()\n",
        "  psw=input()\n",
        "  info.append(user+''+psw)"
      ]
    },
    {
      "cell_type": "markdown",
      "source": [
        "2.allow the user to login if the user name exists and password matches\n"
      ],
      "metadata": {
        "id": "J6ykZ_sYnrMZ"
      }
    },
    {
      "cell_type": "code",
      "source": [
        "users=['siva','raghu','melvin','samu']\n",
        "passwords=[18247,12312,123123,123424]\n",
        "user=input()\n",
        "password=int(input())\n",
        "if user==users[0] and password==passwords[0]:\n",
        "  print(\"ok\")\n",
        "elif user==users[1] and password==passwords[1]:\n",
        "    print(\"access succesfull\")\n",
        "elif user==users[2] and password==passwords[2]:\n",
        "    print(\"access succesfull\")\n",
        "elif user==users[3] and password==passwords[3]:\n",
        "    print(\"access succesfull\")\n",
        "else:\n",
        "      print(\"access denied\")"
      ],
      "metadata": {
        "colab": {
          "base_uri": "https://localhost:8080/"
        },
        "id": "hGQO4ukqnTt3",
        "outputId": "88aeb25a-112b-4db7-ddb0-b59758549366"
      },
      "execution_count": 27,
      "outputs": [
        {
          "output_type": "stream",
          "name": "stdout",
          "text": [
            "raghu\n",
            "12312\n",
            "access succesfull\n"
          ]
        }
      ]
    },
    {
      "cell_type": "markdown",
      "source": [
        "4-display the data of the person (sample is name)"
      ],
      "metadata": {
        "id": "D3OhpSbpsIoL"
      }
    },
    {
      "cell_type": "code",
      "source": [
        "dict = {'siv': {1: 'siva',2:'studnet',3:'#123'},\n",
        "        'amu': {1: 'amudha',2:'student',3:'#234'},\n",
        "        'rag':{1:'ragul',2:'studnet',3:'#435'},\n",
        "        'ram':{1:'ram',2:'student',3:'#678'}}\n",
        "name=input()\n",
        "if name=='siva':\n",
        "   print(dict['siv'])\n",
        "elif name=='amudha':\n",
        "  print(dict['amu'])\n",
        "elif name=='raghul':\n",
        "  print(dict['rag'])\n",
        "elif name=='ram':\n",
        "  print(dict['ram'])\n",
        "else:\n",
        "  print('no such data')"
      ],
      "metadata": {
        "colab": {
          "base_uri": "https://localhost:8080/"
        },
        "id": "1jMVGK6GpqnY",
        "outputId": "aff3e7ac-ed4c-47d3-b965-2892bde24265"
      },
      "execution_count": 54,
      "outputs": [
        {
          "output_type": "stream",
          "name": "stdout",
          "text": [
            "siva\n",
            "{1: 'siva', 2: 'studnet', 3: '#123'}\n"
          ]
        }
      ]
    },
    {
      "cell_type": "code",
      "source": [
        ""
      ],
      "metadata": {
        "id": "CcpZsVnLqLuB"
      },
      "execution_count": null,
      "outputs": []
    }
  ]
}